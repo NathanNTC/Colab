{
  "nbformat": 4,
  "nbformat_minor": 0,
  "metadata": {
    "colab": {
      "provenance": [],
      "authorship_tag": "ABX9TyNG16ZJxsh3A0MwkSgz3b2k",
      "include_colab_link": true
    },
    "kernelspec": {
      "name": "python3",
      "display_name": "Python 3"
    },
    "language_info": {
      "name": "python"
    }
  },
  "cells": [
    {
      "cell_type": "markdown",
      "metadata": {
        "id": "view-in-github",
        "colab_type": "text"
      },
      "source": [
        "<a href=\"https://colab.research.google.com/github/NathanNTC/Colab/blob/main/FilmesREGEX.ipynb\" target=\"_parent\"><img src=\"https://colab.research.google.com/assets/colab-badge.svg\" alt=\"Open In Colab\"/></a>"
      ]
    },
    {
      "cell_type": "code",
      "execution_count": 34,
      "metadata": {
        "id": "l9jqm6-qjp-a"
      },
      "outputs": [],
      "source": [
        "import pandas as pd\n",
        "\n",
        "# Carregar o arquivo CSV\n",
        "df = pd.read_csv('movies.csv')"
      ]
    },
    {
      "cell_type": "code",
      "source": [
        "titulos = df['Name'].str.extract(r'([^\\(\\[]+)', expand=False)\n",
        "\n",
        "print(titulos)"
      ],
      "metadata": {
        "colab": {
          "base_uri": "https://localhost:8080/"
        },
        "id": "ta3uJPLPoj2Y",
        "outputId": "0f887f3f-f202-44af-9923-318e63db7565"
      },
      "execution_count": 44,
      "outputs": [
        {
          "output_type": "stream",
          "name": "stdout",
          "text": [
            "0               Hazbin Hotel\n",
            "1               Breaking Bad\n",
            "2                    ShÅgun\n",
            "3                     Arcane\n",
            "4                  One Piece\n",
            "                ...         \n",
            "1920    America's Got Talent\n",
            "1921              The I-Land\n",
            "1922       The D'Amelio Show\n",
            "1923             Big Brother\n",
            "1924                   Velma\n",
            "Name: Name, Length: 1925, dtype: object\n"
          ]
        }
      ]
    },
    {
      "cell_type": "code",
      "source": [
        "ano_desejado = 2006\n",
        "\n",
        "# Filtrar as séries lançadas no ano desejado\n",
        "filmes_ano = df[df['First_air_date'].str.endswith(str(ano_desejado))]\n",
        "\n",
        "print(filmes_ano)\n"
      ],
      "metadata": {
        "colab": {
          "base_uri": "https://localhost:8080/"
        },
        "id": "dRQDVsPWoj4d",
        "outputId": "a10c1600-ff58-49b2-a8b4-96ef357f494f"
      },
      "execution_count": 41,
      "outputs": [
        {
          "output_type": "stream",
          "name": "stdout",
          "text": [
            "      Unnamed: 0      Id                                  Name  \\\n",
            "20            20   13916                            Death Note   \n",
            "99            99    1044                          Planet Earth   \n",
            "125          125   35753                  The Familiar of Zero   \n",
            "137          137   37585       Kenichi: The Mightiest Disciple   \n",
            "209          209   61752                     Hellsing Ultimate   \n",
            "260          260   31724  Code Geass: Lelouch of the Rebellion   \n",
            "308          308  100087         Hasta que la plata nos separe   \n",
            "453          453    1405                                Dexter   \n",
            "474          474    1043           Ouran High School Host Club   \n",
            "477          477    6782                                 Pucca   \n",
            "512          512   12406                     Powerpuff Girls Z   \n",
            "536          536    2490                          The IT Crowd   \n",
            "560          560   11721                     La Fea MÃ¡s Bella   \n",
            "625          625   79699                  La hija del Mariachi   \n",
            "686          686    4278                   Friday Night Lights   \n",
            "697          697   12598                          Black Lagoon   \n",
            "789          789   42511     The Melancholy of Haruhi Suzumiya   \n",
            "866          866   11767            Yu-Gi-Oh! Capsule Monsters   \n",
            "884          884    1447                                 Psych   \n",
            "945          945    2260                   H2O: Just Add Water   \n",
            "983          983    3868                         The Lost Room   \n",
            "988          988    4620                                Eureka   \n",
            "1043        1043    2973                          Life on Mars   \n",
            "1270        1270    3016   Without Breast There Is No Paradise   \n",
            "1302        1302    7821         El Chavo: The Animated Series   \n",
            "1307        1307    1097                            Ergo Proxy   \n",
            "1361        1361    1639                                Heroes   \n",
            "1406        1406    4608                               30 Rock   \n",
            "1413        1413     365                               Jericho   \n",
            "1516        1516     424                             Torchwood   \n",
            "1592        1592   36250                              xxxHOLiC   \n",
            "1633        1633    4610                        Hannah Montana   \n",
            "1686        1686     219                               Kyle XY   \n",
            "1845        1845    3934                Mickey Mouse Clubhouse   \n",
            "1908        1908    4626                            Ugly Betty   \n",
            "1920        1920    4551                  America's Got Talent   \n",
            "\n",
            "                                    Original_name  Popularity First_air_date  \\\n",
            "20                                     DEATH NOTE     142.683     04-10-2006   \n",
            "99                                   Planet Earth      40.533     05-03-2006   \n",
            "125                            ã‚¼ãƒ­ã®ä½¿ã„é­”      67.025     03-07-2006   \n",
            "137             å²ä¸Šæœ€å¼·ã®å¼Ÿå­ã‚±ãƒ³ã‚¤ãƒ     105.074     07-10-2006   \n",
            "209         ãƒ˜ãƒ«ã‚·ãƒ³ã‚° ã‚¢ãƒ«ãƒ†ã‚£ãƒ¡ãƒƒãƒˆ      50.123     10-02-2006   \n",
            "260   ã‚³ãƒ¼ãƒ‰ã‚®ã‚¢ã‚¹ åé€†ã®ãƒ«ãƒ«ãƒ¼ã‚·ãƒ¥     137.594     05-10-2006   \n",
            "308                 Hasta que la plata nos separe      76.520     22-05-2006   \n",
            "453                                        Dexter     359.706     01-10-2006   \n",
            "474                      æ¡œè˜­é«˜æ ¡ãƒ›ã‚¹ãƒˆéƒ¨      40.514     05-04-2006   \n",
            "477                                         Pucca      34.545     18-09-2006   \n",
            "512   å‡ºã¾ã—ãŸã£ï¼ãƒ‘ãƒ¯ãƒ‘ãƒ•ã‚¬ãƒ¼ãƒ«ã‚ºZ      67.199     01-07-2006   \n",
            "536                                  The IT Crowd     119.226     03-02-2006   \n",
            "560                             La Fea MÃ¡s Bella     368.533     23-01-2006   \n",
            "625                          La hija del Mariachi     129.727     04-09-2006   \n",
            "686                           Friday Night Lights     142.526     03-10-2006   \n",
            "697                                  BLACK LAGOON     107.431     09-04-2006   \n",
            "789                      æ¶¼å®®ãƒãƒ«ãƒ’ã®æ†‚é¬±      57.136     03-04-2006   \n",
            "866                    Yu-Gi-Oh! Capsule Monsters      27.090     09-09-2006   \n",
            "884                                         Psych     404.933     07-07-2006   \n",
            "945                           H2O: Just Add Water     110.028     07-07-2006   \n",
            "983                                 The Lost Room      28.894     11-12-2006   \n",
            "988                                        Eureka     157.921     18-07-2006   \n",
            "1043                                 Life on Mars      65.660     09-01-2006   \n",
            "1270                    Sin tetas no hay paraÃ­so      25.348     16-08-2006   \n",
            "1302                             El Chavo Animado     159.711     21-10-2006   \n",
            "1307                     ã‚¨ãƒ«ã‚´ãƒ—ãƒ©ã‚¯ã‚·ãƒ¼      60.632     25-02-2006   \n",
            "1361                                       Heroes     230.446     25-09-2006   \n",
            "1406                                      30 Rock     243.829     11-10-2006   \n",
            "1413                                      Jericho      86.208     20-09-2006   \n",
            "1516                                    Torchwood     119.610     22-10-2006   \n",
            "1592                             XXX ãƒ›ãƒªãƒƒã‚¯      61.133     06-04-2006   \n",
            "1633                               Hannah Montana     303.983     24-03-2006   \n",
            "1686                                      Kyle XY      65.244     26-06-2006   \n",
            "1845                       Mickey Mouse Clubhouse     198.644     05-05-2006   \n",
            "1908                                   Ugly Betty     124.708     28-09-2006   \n",
            "1920                         America's Got Talent     314.937     21-06-2006   \n",
            "\n",
            "      Vote_average  Vote_count  \n",
            "20           8.639        3863  \n",
            "99           8.537        1001  \n",
            "125          8.517         548  \n",
            "137          8.500         428  \n",
            "209          8.428         564  \n",
            "260          8.400         679  \n",
            "308          8.307         365  \n",
            "453          8.190        3904  \n",
            "474          8.172         201  \n",
            "477          8.169         551  \n",
            "512          8.150         216  \n",
            "536          8.124        1250  \n",
            "560          8.100         558  \n",
            "625          8.050        1443  \n",
            "686          8.008         252  \n",
            "697          7.996         395  \n",
            "789          7.900         242  \n",
            "866          7.900         284  \n",
            "884          7.852         710  \n",
            "945          7.792         554  \n",
            "983          7.766         411  \n",
            "988          7.760         574  \n",
            "1043         7.724         249  \n",
            "1270         7.549         226  \n",
            "1302         7.520         444  \n",
            "1307         7.517         288  \n",
            "1361         7.472        2136  \n",
            "1406         7.423         627  \n",
            "1413         7.400         442  \n",
            "1516         7.312         463  \n",
            "1592         7.200         782  \n",
            "1633         7.162         619  \n",
            "1686         7.091         313  \n",
            "1845         6.762         302  \n",
            "1908         6.208         207  \n",
            "1920         5.600         239  \n"
          ]
        }
      ]
    },
    {
      "cell_type": "code",
      "source": [
        "# Verificar se os IDs das séries seguem um formato específico (exemplo: 5 dígitos)\n",
        "ids_validos = df['Id'].astype(str).str.match(r'\\d{5}')\n",
        "\n",
        "print(ids_validos)"
      ],
      "metadata": {
        "colab": {
          "base_uri": "https://localhost:8080/"
        },
        "id": "x3gvwso2oj6g",
        "outputId": "888afe5f-989d-4c39-83ef-08b3fa0afd40"
      },
      "execution_count": 37,
      "outputs": [
        {
          "output_type": "stream",
          "name": "stdout",
          "text": [
            "0        True\n",
            "1       False\n",
            "2        True\n",
            "3        True\n",
            "4        True\n",
            "        ...  \n",
            "1920    False\n",
            "1921     True\n",
            "1922     True\n",
            "1923     True\n",
            "1924     True\n",
            "Name: Id, Length: 1925, dtype: bool\n"
          ]
        }
      ]
    },
    {
      "cell_type": "code",
      "source": [
        "letra_inicial = 'A'\n",
        "\n",
        "# Filtrar as séries com nome iniciando com a letra especificada\n",
        "filmes_letra = df[df['Name'].str.contains(fr'^{letra_inicial}', case=False, regex=True)]\n",
        "\n",
        "print(filmes_letra)"
      ],
      "metadata": {
        "colab": {
          "base_uri": "https://localhost:8080/"
        },
        "id": "VGajzLKOsMW_",
        "outputId": "a9abe2b6-2b02-46e0-d8a5-4b0d3e2174a9"
      },
      "execution_count": 45,
      "outputs": [
        {
          "output_type": "stream",
          "name": "stdout",
          "text": [
            "      Unnamed: 0      Id                        Name  \\\n",
            "3              3   94605                      Arcane   \n",
            "5              5     246  Avatar: The Last Airbender   \n",
            "8              8   70785              Anne with an E   \n",
            "15            15    1429             Attack on Titan   \n",
            "24            24  135157            Alchemy of Souls   \n",
            "...          ...     ...                         ...   \n",
            "1890        1890  100444              Adult Material   \n",
            "1900        1900   35339                    Alcatraz   \n",
            "1910        1910   42878            Anger Management   \n",
            "1913        1913   79130                Another Life   \n",
            "1920        1920    4551        America's Got Talent   \n",
            "\n",
            "                   Original_name  Popularity First_air_date  Vote_average  \\\n",
            "3                         Arcane      89.432     06-11-2021         8.749   \n",
            "5     Avatar: The Last Airbender     150.062     21-02-2005         8.719   \n",
            "8                 Anne with an E     114.302     19-03-2017         8.689   \n",
            "15               é€²æ’ƒã®å·¨äºº     142.252     07-04-2013         8.660   \n",
            "24                        í™˜í˜¼     137.866     18-06-2022         8.637   \n",
            "...                          ...         ...            ...           ...   \n",
            "1890              Adult Material      31.034     05-10-2020         6.500   \n",
            "1900                    Alcatraz      63.860     16-01-2012         6.329   \n",
            "1910            Anger Management     187.784     28-06-2012         6.200   \n",
            "1913                Another Life      51.524     25-07-2019         6.087   \n",
            "1920        America's Got Talent     314.937     21-06-2006         5.600   \n",
            "\n",
            "      Vote_count  \n",
            "3           3668  \n",
            "5           3822  \n",
            "8           4518  \n",
            "15          5965  \n",
            "24           475  \n",
            "...          ...  \n",
            "1890         244  \n",
            "1900         252  \n",
            "1910         208  \n",
            "1913         351  \n",
            "1920         239  \n",
            "\n",
            "[100 rows x 8 columns]\n"
          ]
        }
      ]
    },
    {
      "cell_type": "code",
      "source": [
        "palavra_chave = 'last'\n",
        "\n",
        "# Criar uma máscara booleana para os filmes que contêm a palavra-chave no nome\n",
        "mask = df['Name'].str.contains(fr'\\b{palavra_chave}\\b', case=False, regex=True)\n",
        "\n",
        "# Filtrar o DataFrame com base na máscara e contar o número de ocorrências\n",
        "total_filmes_palavra_chave = mask.sum()\n",
        "\n",
        "print(total_filmes_palavra_chave)"
      ],
      "metadata": {
        "colab": {
          "base_uri": "https://localhost:8080/"
        },
        "id": "D_YokOCroj8D",
        "outputId": "e1cef9b6-f9a3-4925-9913-246e0edb562b"
      },
      "execution_count": 42,
      "outputs": [
        {
          "output_type": "stream",
          "name": "stdout",
          "text": [
            "16\n"
          ]
        }
      ]
    }
  ]
}