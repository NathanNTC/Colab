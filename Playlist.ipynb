{
  "nbformat": 4,
  "nbformat_minor": 0,
  "metadata": {
    "colab": {
      "provenance": [],
      "authorship_tag": "ABX9TyMbrJjzFYfYZVJd9yL4oR57",
      "include_colab_link": true
    },
    "kernelspec": {
      "name": "python3",
      "display_name": "Python 3"
    },
    "language_info": {
      "name": "python"
    }
  },
  "cells": [
    {
      "cell_type": "markdown",
      "metadata": {
        "id": "view-in-github",
        "colab_type": "text"
      },
      "source": [
        "<a href=\"https://colab.research.google.com/github/NathanNTC/Colab/blob/main/Playlist.ipynb\" target=\"_parent\"><img src=\"https://colab.research.google.com/assets/colab-badge.svg\" alt=\"Open In Colab\"/></a>"
      ]
    },
    {
      "cell_type": "code",
      "execution_count": 16,
      "metadata": {
        "id": "WbPjZIwX7egV"
      },
      "outputs": [],
      "source": [
        "class No:\n",
        "    def __init__(self, titulo, duracao):\n",
        "        self.titulo = titulo\n",
        "        self.duracao = duracao\n",
        "        self.anterior = None\n",
        "        self.proximo = None\n",
        "\n"
      ]
    },
    {
      "cell_type": "code",
      "source": [
        "class ListaDuplamenteEncadeada:\n",
        "    def __init__(self):\n",
        "        self.cabeca = None #Lista vazia\n",
        "\n",
        "    # Insere uma nova musica no início da lista\n",
        "    def inserir_no_inicio(self, titulo, duracao):\n",
        "        novo_no = No(titulo, duracao)\n",
        "        if not self.cabeca: #verifica se a lista está vazia\n",
        "            self.cabeca = novo_no\n",
        "        else:\n",
        "            novo_no.proximo = self.cabeca\n",
        "            self.cabeca.anterior = novo_no\n",
        "            self.cabeca = novo_no\n",
        "            # Insere uma nova musica em uma posição específica\n",
        "    def inserir_na_posicao(self, titulo, duracao, posicao):\n",
        "        novo_no = No(titulo, duracao)\n",
        "        if posicao == 0: #se igual a 0 insere no incio\n",
        "            self.inserir_no_inicio(titulo, duracao)\n",
        "            return\n",
        "\n",
        "        atual = self.cabeca\n",
        "        posicao_atual = 0\n",
        "        while atual and posicao_atual < posicao:\n",
        "            if posicao_atual == posicao - 1:\n",
        "                novo_no.anterior = atual\n",
        "                novo_no.proximo = atual.proximo\n",
        "                if atual.proximo:\n",
        "                    atual.proximo.anterior = novo_no\n",
        "                atual.proximo = novo_no\n",
        "                return\n",
        "            atual = atual.proximo\n",
        "            posicao_atual += 1\n",
        "\n",
        "# Lista todasas musicas na lista\n",
        "    def listar_todos(self):\n",
        "        atual = self.cabeca\n",
        "        while atual:\n",
        "            print(f'Título: {atual.titulo}, Duração: {atual.duracao}')\n",
        "            atual = atual.proximo\n",
        "\n",
        "# Encontra uma musica com base no título\n",
        "    def encontrar(self, titulo):\n",
        "        atual = self.cabeca\n",
        "        while atual:\n",
        "            if atual.titulo == titulo:\n",
        "                return atual\n",
        "            atual = atual.proximo\n",
        "        return None\n",
        "\n",
        "        # Exclui a musica no início da lista\n",
        "    def excluir_do_inicio(self):\n",
        "        if not self.cabeca:\n",
        "            return None\n",
        "        no_removido = self.cabeca #guarda oq será removido\n",
        "        self.cabeca = self.cabeca.proximo #att a cabeça\n",
        "        if self.cabeca: #o anterior da nova cabeça é none\n",
        "            self.cabeca.anterior = None\n",
        "        return no_removido\n",
        "\n",
        "   # Exclui uma musica em uma posição específica\n",
        "    def excluir_na_posicao(self, posicao):\n",
        "        if posicao == 0:\n",
        "            return self.excluir_do_inicio()\n",
        "\n",
        "        atual = self.cabeca\n",
        "        posicao_atual = 0\n",
        "        while atual and posicao_atual < posicao:\n",
        "            if posicao_atual == posicao - 1 and atual.proximo:\n",
        "                no_removido = atual.proximo #guarda oq será removido\n",
        "                atual.proximo = no_removido.proximo\n",
        "                if no_removido.proximo:\n",
        "                    no_removido.proximo.anterior = atual\n",
        "                return no_removido\n",
        "            atual = atual.proximo\n",
        "            posicao_atual += 1\n",
        "        return None\n",
        "\n",
        "\n",
        ""
      ],
      "metadata": {
        "id": "zMW-oiCZ8BLG"
      },
      "execution_count": 21,
      "outputs": []
    },
    {
      "cell_type": "code",
      "source": [
        "#Teste\n",
        "if __name__ == \"__main__\":\n",
        "    #Criar playlist\n",
        "    playlist = ListaDuplamenteEncadeada()\n",
        "\n",
        "    #inserir música na playlist\n",
        "    playlist.inserir_no_inicio(\"Música 1\", \"3:45\")\n",
        "    playlist.inserir_no_inicio(\"Música 2\", \"4:20\")\n",
        "    playlist.inserir_na_posicao(\"Música 3\", \"2:50\", 1)\n",
        "    playlist.inserir_na_posicao(\"Música 4\", \"5:10\", 2)\n",
        "\n",
        "    # Listar musicass\n",
        "    print(\"Playlist após inserções:\")\n",
        "    playlist.listar_todos()\n",
        "\n",
        "    #Achar musica\n",
        "    print(\"\\nEncontrando 'Música 3':\")\n",
        "    musica_encontrada = playlist.encontrar(\"Música 3\")\n",
        "    if musica_encontrada:\n",
        "        print(f'Encontrada: {musica_encontrada.titulo}, Duração: {musica_encontrada.duracao}')\n",
        "    else:\n",
        "        print(\"Música não encontrada\")\n",
        "\n",
        "    # Excluir a primeira musica\n",
        "    print(\"\\nExcluindo a primeira música:\")\n",
        "    musica_removida = playlist.excluir_do_inicio()\n",
        "    if musica_removida:\n",
        "        print(f'Removida: {musica_removida.titulo}, Duração: {musica_removida.duracao}')\n",
        "    else:\n",
        "        print(\"Nenhuma música para remover\")\n",
        "\n",
        "  #excluir a musica na posição 1\n",
        "    print(\"\\nExcluindo a música na posição 1:\")\n",
        "    musica_removida = playlist.excluir_na_posicao(1)\n",
        "    if musica_removida:\n",
        "        print(f'Removida: {musica_removida.titulo}, Duração: {musica_removida.duracao}')\n",
        "    else:\n",
        "        print(\"Nenhuma música para remover nessa posição\")\n",
        "\n",
        "\n",
        "    #lista novamente as musicas\n",
        "    print(\"\\nPlaylist após exclusões:\")\n",
        "    playlist.listar_todos()\n",
        ""
      ],
      "metadata": {
        "colab": {
          "base_uri": "https://localhost:8080/"
        },
        "id": "0jnipccs8Gly",
        "outputId": "36585032-0528-4cc5-cbf4-cc5c023059f7"
      },
      "execution_count": 25,
      "outputs": [
        {
          "output_type": "stream",
          "name": "stdout",
          "text": [
            "Playlist após inserções:\n",
            "Título: Música 2, Duração: 4:20\n",
            "Título: Música 3, Duração: 2:50\n",
            "Título: Música 4, Duração: 5:10\n",
            "Título: Música 1, Duração: 3:45\n",
            "\n",
            "Encontrando 'Música 3':\n",
            "Encontrada: Música 3, Duração: 2:50\n",
            "\n",
            "Excluindo a primeira música:\n",
            "Removida: Música 2, Duração: 4:20\n",
            "\n",
            "Excluindo a música na posição 1:\n",
            "Removida: Música 4, Duração: 5:10\n",
            "\n",
            "Playlist após exclusões:\n",
            "Título: Música 3, Duração: 2:50\n",
            "Título: Música 1, Duração: 3:45\n"
          ]
        }
      ]
    },
    {
      "cell_type": "code",
      "source": [],
      "metadata": {
        "id": "XFAfrf3z-G26"
      },
      "execution_count": null,
      "outputs": []
    },
    {
      "cell_type": "code",
      "source": [],
      "metadata": {
        "id": "8GXNDqW4-G5X"
      },
      "execution_count": null,
      "outputs": []
    },
    {
      "cell_type": "code",
      "source": [],
      "metadata": {
        "id": "S1jyw7jr-G7k"
      },
      "execution_count": null,
      "outputs": []
    }
  ]
}