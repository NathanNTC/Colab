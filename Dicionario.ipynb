{
  "nbformat": 4,
  "nbformat_minor": 0,
  "metadata": {
    "colab": {
      "provenance": [],
      "authorship_tag": "ABX9TyMtYZ/mzms1LSARiWFSjtg9",
      "include_colab_link": true
    },
    "kernelspec": {
      "name": "python3",
      "display_name": "Python 3"
    },
    "language_info": {
      "name": "python"
    }
  },
  "cells": [
    {
      "cell_type": "markdown",
      "metadata": {
        "id": "view-in-github",
        "colab_type": "text"
      },
      "source": [
        "<a href=\"https://colab.research.google.com/github/NathanNTC/Colab/blob/main/Dicionario.ipynb\" target=\"_parent\"><img src=\"https://colab.research.google.com/assets/colab-badge.svg\" alt=\"Open In Colab\"/></a>"
      ]
    },
    {
      "cell_type": "code",
      "execution_count": 1,
      "metadata": {
        "id": "0Lef71lhc5uP"
      },
      "outputs": [],
      "source": [
        "import pandas as pd\n",
        "import time\n"
      ]
    },
    {
      "cell_type": "code",
      "source": [
        "f = open('br-utf8.txt', encoding='utf-8')\n",
        "txt = f.readlines()\n",
        "# rstrip - Remove todos os espaços em branco no final da string\n",
        "txt = [line.rstrip() for line in txt]\n",
        "f.close()"
      ],
      "metadata": {
        "id": "Rx92OJjtdoQC"
      },
      "execution_count": 3,
      "outputs": []
    },
    {
      "cell_type": "code",
      "source": [
        "dicionario = []\n",
        "for linha in txt:\n",
        "    dicionario.extend(linha.split())\n"
      ],
      "metadata": {
        "id": "qsKtNFhtdoSR"
      },
      "execution_count": 4,
      "outputs": []
    },
    {
      "cell_type": "code",
      "source": [
        "dicionario = [palavra.lower() for palavra in dicionario]"
      ],
      "metadata": {
        "id": "-W6Gm-Djd-Gh"
      },
      "execution_count": 5,
      "outputs": []
    },
    {
      "cell_type": "code",
      "source": [
        "frase = 'Não atire o pau no gato Porque isso Não se faz O gatinho É nosso amigo Não devemos maltratar os animais Jamais'"
      ],
      "metadata": {
        "id": "FuiV8Orhd-I8"
      },
      "execution_count": 6,
      "outputs": []
    },
    {
      "cell_type": "code",
      "source": [
        "frase_palavras = frase.lower().split()"
      ],
      "metadata": {
        "id": "_9jOtltEhHHD"
      },
      "execution_count": 7,
      "outputs": []
    },
    {
      "cell_type": "code",
      "source": [
        "start_time = time.time()\n",
        "posicoes_linear = []\n",
        "for palavra in frase_palavras:\n",
        "    if palavra in dicionario:\n",
        "        posicoes_linear.append(dicionario.index(palavra))\n",
        "    else:\n",
        "        posicoes_linear.append(None)\n",
        "linear_time = time.time() - start_time"
      ],
      "metadata": {
        "id": "1Y0addxihHKJ"
      },
      "execution_count": 8,
      "outputs": []
    },
    {
      "cell_type": "code",
      "source": [
        "start_time = time.time()\n",
        "posicoes_binaria = []\n",
        "for palavra in frase_palavras:\n",
        "    if palavra in dicionario:\n",
        "        left = 0\n",
        "        right = len(dicionario) - 1\n",
        "        while left <= right:\n",
        "            mid = (left + right) // 2\n",
        "            if dicionario[mid] == palavra:\n",
        "                posicoes_binaria.append(mid)\n",
        "                break\n",
        "            elif dicionario[mid] < palavra:\n",
        "                left = mid + 1\n",
        "            else:\n",
        "                right = mid - 1\n",
        "    else:\n",
        "        posicoes_binaria.append(None)\n",
        "binary_time = time.time() - start_time\n"
      ],
      "metadata": {
        "id": "ifrs8951hHMn"
      },
      "execution_count": 9,
      "outputs": []
    },
    {
      "cell_type": "code",
      "source": [
        "print(\"Posições encontradas (Busca Linear):\", posicoes_linear)\n",
        "print(\"Posições encontradas (Busca Binária):\", posicoes_binaria)\n",
        "print(\"Tempo de busca (Busca Linear): {:.6f} segundos\".format(linear_time))\n",
        "print(\"Tempo de busca (Busca Binária): {:.6f} segundos\".format(binary_time))"
      ],
      "metadata": {
        "id": "vMCMq0cphHO7",
        "colab": {
          "base_uri": "https://localhost:8080/"
        },
        "outputId": "9fbca4fe-4b11-45e8-b5f2-8e6ca5e894f4"
      },
      "execution_count": 10,
      "outputs": [
        {
          "output_type": "stream",
          "name": "stdout",
          "text": [
            "Posições encontradas (Busca Linear): [None, 33641, None, None, None, None, None, None, None, None, None, None, None, None, None, 18825, None, None, None, None, 20674, None]\n",
            "Posições encontradas (Busca Binária): [None, 33641, None, None, None, None, None, None, None, None, None, None, None, None, None, 18825, None, None, None, None, 20674, None]\n",
            "Tempo de busca (Busca Linear): 0.031851 segundos\n",
            "Tempo de busca (Busca Binária): 0.028831 segundos\n"
          ]
        }
      ]
    },
    {
      "cell_type": "code",
      "source": [],
      "metadata": {
        "id": "Eq53uZkRhHQ0"
      },
      "execution_count": null,
      "outputs": []
    }
  ]
}