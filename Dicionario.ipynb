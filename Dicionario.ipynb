{
  "nbformat": 4,
  "nbformat_minor": 0,
  "metadata": {
    "colab": {
      "provenance": [],
      "authorship_tag": "ABX9TyMjukLw56uU7xIiP4RqnjG7",
      "include_colab_link": true
    },
    "kernelspec": {
      "name": "python3",
      "display_name": "Python 3"
    },
    "language_info": {
      "name": "python"
    }
  },
  "cells": [
    {
      "cell_type": "markdown",
      "metadata": {
        "id": "view-in-github",
        "colab_type": "text"
      },
      "source": [
        "<a href=\"https://colab.research.google.com/github/NathanNTC/Colab/blob/main/Dicionario.ipynb\" target=\"_parent\"><img src=\"https://colab.research.google.com/assets/colab-badge.svg\" alt=\"Open In Colab\"/></a>"
      ]
    },
    {
      "cell_type": "code",
      "execution_count": 1,
      "metadata": {
        "id": "0Lef71lhc5uP"
      },
      "outputs": [],
      "source": [
        "#imports para fazer as comparações\n",
        "import pandas as pd\n",
        "import time\n"
      ]
    },
    {
      "cell_type": "code",
      "source": [
        "#abre e fecha o arquivo\n",
        "f = open('br-utf8.txt', encoding='utf-8')\n",
        "txt = f.readlines()\n",
        "# rstrip - Remove todos os espaços em branco no final da string\n",
        "txt = [line.rstrip() for line in txt]\n",
        "f.close()"
      ],
      "metadata": {
        "id": "Rx92OJjtdoQC"
      },
      "execution_count": 3,
      "outputs": []
    },
    {
      "cell_type": "code",
      "source": [
        "#cria uma lista de palavras\n",
        "dicionario = []\n",
        "for linha in txt:\n",
        "    dicionario.extend(linha.split())\n"
      ],
      "metadata": {
        "id": "qsKtNFhtdoSR"
      },
      "execution_count": 4,
      "outputs": []
    },
    {
      "cell_type": "code",
      "source": [
        "#letras minusculas\n",
        "dicionario = [palavra.lower() for palavra in dicionario]"
      ],
      "metadata": {
        "id": "-W6Gm-Djd-Gh"
      },
      "execution_count": 5,
      "outputs": []
    },
    {
      "cell_type": "code",
      "source": [
        "#frase a ser encontrada\n",
        "frase = 'Não atire o pau no gato Porque isso Não se faz O gatinho É nosso amigo Não devemos maltratar os animais Jamais'"
      ],
      "metadata": {
        "id": "FuiV8Orhd-I8"
      },
      "execution_count": 6,
      "outputs": []
    },
    {
      "cell_type": "code",
      "source": [
        "#frase fica minuscula\n",
        "frase_palavras = frase.lower().split()"
      ],
      "metadata": {
        "id": "_9jOtltEhHHD"
      },
      "execution_count": 7,
      "outputs": []
    },
    {
      "cell_type": "code",
      "source": [
        "# Inicia a contagem do tempo de execução\n",
        "start_time = time.time()\n",
        "\n",
        "# Inicializa uma lista para armazenar as posições das palavras encontradas pela busca linear\n",
        "posicoes_linear = []\n",
        "\n",
        "# Itera sobre cada palavra na lista de palavras da frase\n",
        "for palavra in frase_palavras:\n",
        "    # Verifica se a palavra está presente no dicionário\n",
        "    if palavra in dicionario:\n",
        "        # Se a palavra está presente, encontra o índice da palavra no dicionário e o adiciona à lista\n",
        "        posicoes_linear.append(dicionario.index(palavra))\n",
        "    else:\n",
        "        # Se a palavra não está presente, adiciona None à lista de posições\n",
        "        posicoes_linear.append(None)\n",
        "\n",
        "# Calcula o tempo total decorrido para a busca linear\n",
        "linear_time = time.time() - start_time\n"
      ],
      "metadata": {
        "id": "1Y0addxihHKJ"
      },
      "execution_count": 8,
      "outputs": []
    },
    {
      "cell_type": "code",
      "source": [
        "# Inicia a contagem do tempo de execução\n",
        "start_time = time.time()\n",
        "\n",
        "# Inicializa uma lista para armazenar as posições das palavras encontradas pela busca binária\n",
        "posicoes_binaria = []\n",
        "\n",
        "# Itera sobre cada palavra na lista de palavras da frase\n",
        "for palavra in frase_palavras:\n",
        "    # Verifica se a palavra está presente no dicionário\n",
        "    if palavra in dicionario:\n",
        "        # Inicializa os índices para a busca binária\n",
        "        left = 0\n",
        "        right = len(dicionario) - 1\n",
        "\n",
        "        # Realiza a busca binária\n",
        "        while left <= right:\n",
        "            mid = (left + right) // 2\n",
        "            if dicionario[mid] == palavra:  # Se a palavra é encontrada\n",
        "                # Adiciona a posição da palavra à lista\n",
        "                posicoes_binaria.append(mid)\n",
        "                break\n",
        "            elif dicionario[mid] < palavra:  # Se a palavra está à direita do meio\n",
        "                left = mid + 1\n",
        "            else:  # Se a palavra está à esquerda do meio\n",
        "                right = mid - 1\n",
        "    else:  # Se a palavra não está presente no dicionário\n",
        "        # Adiciona None à lista de posições\n",
        "        posicoes_binaria.append(None)\n",
        "\n",
        "# Calcula o tempo total decorrido para a busca binária\n",
        "binary_time = time.time() - start_time\n"
      ],
      "metadata": {
        "id": "ifrs8951hHMn"
      },
      "execution_count": 11,
      "outputs": []
    },
    {
      "cell_type": "code",
      "source": [
        "#imprime todas as nessecidades do programa\n",
        "print(\"Posições encontradas (Busca Linear):\", posicoes_linear)\n",
        "print(\"Posições encontradas (Busca Binária):\", posicoes_binaria)\n",
        "print(\"Tempo de busca (Busca Linear): {:.6f} segundos\".format(linear_time))\n",
        "print(\"Tempo de busca (Busca Binária): {:.6f} segundos\".format(binary_time))"
      ],
      "metadata": {
        "id": "vMCMq0cphHO7",
        "colab": {
          "base_uri": "https://localhost:8080/"
        },
        "outputId": "df2fddf3-1337-4301-a521-cb206487d9ba"
      },
      "execution_count": 13,
      "outputs": [
        {
          "output_type": "stream",
          "name": "stdout",
          "text": [
            "Posições encontradas (Busca Linear): [None, 33641, None, None, None, None, None, None, None, None, None, None, None, None, None, 18825, None, None, None, None, 20674, None]\n",
            "Posições encontradas (Busca Binária): [None, 33641, None, None, None, None, None, None, None, None, None, None, None, None, None, 18825, None, None, None, None, 20674, None]\n",
            "Tempo de busca (Busca Linear): 0.031851 segundos\n",
            "Tempo de busca (Busca Binária): 0.031983 segundos\n"
          ]
        }
      ]
    },
    {
      "cell_type": "code",
      "source": [],
      "metadata": {
        "id": "Eq53uZkRhHQ0"
      },
      "execution_count": null,
      "outputs": []
    }
  ]
}