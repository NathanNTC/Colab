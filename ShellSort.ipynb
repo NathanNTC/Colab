{
  "nbformat": 4,
  "nbformat_minor": 0,
  "metadata": {
    "colab": {
      "provenance": [],
      "authorship_tag": "ABX9TyOh5DvlLUMinBomktkGuy3F",
      "include_colab_link": true
    },
    "kernelspec": {
      "name": "python3",
      "display_name": "Python 3"
    },
    "language_info": {
      "name": "python"
    }
  },
  "cells": [
    {
      "cell_type": "markdown",
      "metadata": {
        "id": "view-in-github",
        "colab_type": "text"
      },
      "source": [
        "<a href=\"https://colab.research.google.com/github/NathanNTC/Colab/blob/main/ShellSort.ipynb\" target=\"_parent\"><img src=\"https://colab.research.google.com/assets/colab-badge.svg\" alt=\"Open In Colab\"/></a>"
      ]
    },
    {
      "cell_type": "code",
      "execution_count": 1,
      "metadata": {
        "id": "TD5II-lUrmYk"
      },
      "outputs": [],
      "source": [
        "import pandas as pd\n",
        "import time\n"
      ]
    },
    {
      "cell_type": "code",
      "source": [
        "def shell_sort(arr):\n",
        "    # Obtém o tamanho da lista\n",
        "    n = len(arr)\n",
        "    # Define o tamanho do intervalo inicial\n",
        "    gap = n // 2\n",
        "\n",
        "    # Loop enquanto o intervalo for maior que zero\n",
        "    while gap > 0:\n",
        "        # Itera sobre os elementos da lista começando do intervalo\n",
        "        for i in range(gap, n):\n",
        "            # Armazena temporariamente o valor do elemento atual\n",
        "            temp = arr[i]\n",
        "            # Define um índice para comparação\n",
        "            j = i\n",
        "            # Realiza a comparação e a troca dos elementos, se necessário, dentro do intervalo\n",
        "            while j >= gap and arr[j - gap] > temp:\n",
        "                arr[j] = arr[j - gap]\n",
        "                j -= gap\n",
        "            # Insere o elemento temporário no lugar correto\n",
        "            arr[j] = temp\n",
        "        # Reduz o tamanho do intervalo pela metade\n",
        "        gap //= 2"
      ],
      "metadata": {
        "id": "Y6uJBGlFrowi"
      },
      "execution_count": 6,
      "outputs": []
    },
    {
      "cell_type": "code",
      "source": [
        "# Função para medir o tempo de execução do Shell Sort\n",
        "def time_shell_sort(arr):\n",
        "    start_time = time.time()\n",
        "    shell_sort(arr)\n",
        "    end_time = time.time()\n",
        "    return end_time - start_time"
      ],
      "metadata": {
        "id": "5Myouwdcro2p"
      },
      "execution_count": 7,
      "outputs": []
    },
    {
      "cell_type": "code",
      "source": [
        "if __name__ == \"__main__\":\n",
        "    # DataFrame\n",
        "    df = pd.DataFrame({'A': [3, 2, 6, 1, 5, 4]})\n",
        "\n",
        "    # Convertendo o DataFrame em uma lista para ordenação\n",
        "    arr = df['A'].tolist()\n",
        "\n",
        "    print(\"Array antes da ordenação:\")\n",
        "    print(arr)\n",
        "\n",
        "    # Medindo e exibindo o tempo de ordenação\n",
        "    tempo_execucao = time_shell_sort(arr)\n",
        "    print(\"\\nTempo de execução do Shell Sort: {:.20f} segundos\".format(tempo_execucao))\n",
        "\n",
        "    print(\"\\nArray após a ordenação:\")\n",
        "    print(arr)"
      ],
      "metadata": {
        "colab": {
          "base_uri": "https://localhost:8080/"
        },
        "id": "d4F7tIylro6r",
        "outputId": "65cd044b-a2a1-40f8-8680-0828ef070c2c"
      },
      "execution_count": 8,
      "outputs": [
        {
          "output_type": "stream",
          "name": "stdout",
          "text": [
            "Array antes da ordenação:\n",
            "[3, 2, 6, 1, 5, 4]\n",
            "\n",
            "Tempo de execução do Shell Sort: 0.00001049041748046875 segundos\n",
            "\n",
            "Array após a ordenação:\n",
            "[1, 2, 3, 4, 5, 6]\n"
          ]
        }
      ]
    }
  ]
}