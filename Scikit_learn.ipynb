{
  "nbformat": 4,
  "nbformat_minor": 0,
  "metadata": {
    "colab": {
      "provenance": [],
      "authorship_tag": "ABX9TyO1Mx9QS7STkZCU5BZ3yJXb",
      "include_colab_link": true
    },
    "kernelspec": {
      "name": "python3",
      "display_name": "Python 3"
    },
    "language_info": {
      "name": "python"
    }
  },
  "cells": [
    {
      "cell_type": "markdown",
      "metadata": {
        "id": "view-in-github",
        "colab_type": "text"
      },
      "source": [
        "<a href=\"https://colab.research.google.com/github/NathanNTC/Colab/blob/main/Scikit_learn.ipynb\" target=\"_parent\"><img src=\"https://colab.research.google.com/assets/colab-badge.svg\" alt=\"Open In Colab\"/></a>"
      ]
    },
    {
      "cell_type": "code",
      "execution_count": 29,
      "metadata": {
        "id": "6jy_8bPMYgly"
      },
      "outputs": [],
      "source": [
        "#biblio\n",
        "import pandas as pd\n",
        "from sklearn.model_selection import train_test_split\n",
        "from sklearn.preprocessing import StandardScaler, LabelEncoder\n",
        "from sklearn.neural_network import MLPClassifier\n",
        "from sklearn.metrics import classification_report"
      ]
    },
    {
      "cell_type": "code",
      "source": [
        "#Carregar\n",
        "file_path = \"foods_feedback.csv\"\n",
        "df = pd.read_csv(file_path)"
      ],
      "metadata": {
        "id": "7h9apGzJd1kF"
      },
      "execution_count": 30,
      "outputs": []
    },
    {
      "cell_type": "code",
      "source": [
        "# Preparando os dados\n",
        "X = df.drop(['Output', 'Feedback'], axis=1)  # features\n",
        "y = df['Output']  # variável alvo"
      ],
      "metadata": {
        "id": "T4Qqxj26d6wl"
      },
      "execution_count": 31,
      "outputs": []
    },
    {
      "cell_type": "code",
      "source": [
        "#Codificar\n",
        "le = LabelEncoder()\n",
        "X_encoded = X.apply(le.fit_transform)"
      ],
      "metadata": {
        "id": "LOZ4qyc7d-FH"
      },
      "execution_count": 32,
      "outputs": []
    },
    {
      "cell_type": "code",
      "source": [
        "#treino/teste\n",
        "X_train, X_test, y_train, y_test = train_test_split(X_encoded, y, test_size=0.2, random_state=42)"
      ],
      "metadata": {
        "id": "q2UVoh19eB8j"
      },
      "execution_count": 33,
      "outputs": []
    },
    {
      "cell_type": "code",
      "source": [
        "# Normalizar\n",
        "scaler = StandardScaler()\n",
        "X_train_scaled = scaler.fit_transform(X_train)\n",
        "X_test_scaled = scaler.transform(X_test)"
      ],
      "metadata": {
        "id": "9sozQkyzeGsP"
      },
      "execution_count": 34,
      "outputs": []
    },
    {
      "cell_type": "code",
      "source": [
        "# Definir MLPClassifier 1\n",
        "mlp1 = MLPClassifier(hidden_layer_sizes=(50,), max_iter=1000, random_state=42)\n",
        "\n",
        "# Treinar MLPClassifier 1\n",
        "print(\"\\nTreino MLPClassifier 1...\")\n",
        "mlp1.fit(X_train_scaled, y_train)\n",
        "\n",
        "# Avaliar MLPClassifier 1\n",
        "print(\"\\nEvaluating MLPClassifier 1...\")\n",
        "y_pred1 = mlp1.predict(X_test_scaled)\n",
        "print(classification_report(y_test, y_pred1))"
      ],
      "metadata": {
        "colab": {
          "base_uri": "https://localhost:8080/"
        },
        "id": "EsYXf3tCeJYB",
        "outputId": "99c27f8d-ee47-4cdd-dea4-bcd3fb05c5d6"
      },
      "execution_count": 35,
      "outputs": [
        {
          "output_type": "stream",
          "name": "stdout",
          "text": [
            "\n",
            "Treino MLPClassifier 1...\n",
            "\n",
            "Evaluating MLPClassifier 1...\n",
            "              precision    recall  f1-score   support\n",
            "\n",
            "           0       0.62      0.83      0.71        12\n",
            "           1       0.97      0.91      0.94        66\n",
            "\n",
            "    accuracy                           0.90        78\n",
            "   macro avg       0.80      0.87      0.83        78\n",
            "weighted avg       0.92      0.90      0.90        78\n",
            "\n"
          ]
        },
        {
          "output_type": "stream",
          "name": "stderr",
          "text": [
            "/usr/local/lib/python3.10/dist-packages/sklearn/neural_network/_multilayer_perceptron.py:686: ConvergenceWarning: Stochastic Optimizer: Maximum iterations (1000) reached and the optimization hasn't converged yet.\n",
            "  warnings.warn(\n"
          ]
        }
      ]
    },
    {
      "cell_type": "code",
      "source": [
        "# Definir MLPClassifier 2\n",
        "mlp2 = MLPClassifier(hidden_layer_sizes=(100, 50), max_iter=1000, random_state=42)\n",
        "\n",
        "# Treinar MLPClassifier 2\n",
        "print(\"\\nTreino MLPClassifier 2...\")\n",
        "mlp2.fit(X_train_scaled, y_train)\n",
        "\n",
        "# Avaliar MLPClassifier 2\n",
        "print(\"\\nEvaluating MLPClassifier 2...\")\n",
        "y_pred2 = mlp2.predict(X_test_scaled)\n",
        "print(classification_report(y_test, y_pred2))"
      ],
      "metadata": {
        "colab": {
          "base_uri": "https://localhost:8080/"
        },
        "id": "8e0HThynegWW",
        "outputId": "ed06ac78-1a7f-4f00-85a9-32de5061bb8b"
      },
      "execution_count": 36,
      "outputs": [
        {
          "output_type": "stream",
          "name": "stdout",
          "text": [
            "\n",
            "Treino MLPClassifier 2...\n",
            "\n",
            "Evaluating MLPClassifier 2...\n",
            "              precision    recall  f1-score   support\n",
            "\n",
            "           0       0.64      0.75      0.69        12\n",
            "           1       0.95      0.92      0.94        66\n",
            "\n",
            "    accuracy                           0.90        78\n",
            "   macro avg       0.80      0.84      0.82        78\n",
            "weighted avg       0.91      0.90      0.90        78\n",
            "\n"
          ]
        }
      ]
    }
  ]
}