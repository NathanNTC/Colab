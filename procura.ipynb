{
  "nbformat": 4,
  "nbformat_minor": 0,
  "metadata": {
    "colab": {
      "provenance": []
    },
    "kernelspec": {
      "name": "python3",
      "display_name": "Python 3"
    },
    "language_info": {
      "name": "python"
    }
  },
  "cells": [
    {
      "cell_type": "code",
      "execution_count": 13,
      "metadata": {
        "id": "b4EvspNfhwgY"
      },
      "outputs": [],
      "source": [
        "import pandas as pd\n",
        "import time\n",
        "#Imports time para tempo e pandas para análise"
      ]
    },
    {
      "cell_type": "code",
      "source": [
        "f = open('br-utf8.txt', encoding='utf-8')\n",
        "txt = f.readlines()\n",
        "\n",
        "txt = [line.rstrip() for line in txt]\n",
        "f.close()\n",
        "\n",
        "#codigo que o senhor disponibilizou, eu iria usar o upload quando rodar, porém não sabia se era oq o senhor queria (carregar_arquivo())"
      ],
      "metadata": {
        "id": "lGrQ7DgbhyPb"
      },
      "execution_count": 14,
      "outputs": []
    },
    {
      "cell_type": "code",
      "source": [
        "dicionario = []\n",
        "for linha in txt:\n",
        "    dicionario.extend(linha.split())\n",
        "#converte o texto em uma lista"
      ],
      "metadata": {
        "id": "R5NUoqu-hyU_"
      },
      "execution_count": 15,
      "outputs": []
    },
    {
      "cell_type": "code",
      "source": [
        "dicionario = [palavra.lower() for palavra in dicionario]\n",
        "#converte o texto para ter apneas letras minúsculas"
      ],
      "metadata": {
        "id": "4RV6kCE3hyX8"
      },
      "execution_count": 4,
      "outputs": []
    },
    {
      "cell_type": "code",
      "source": [
        "frase = 'Não atire o pau no gato Porque isso Não se faz O gatinho É nosso amigo Não devemos maltratar os animais Jamais'\n",
        "#frase desejada"
      ],
      "metadata": {
        "id": "A-6nVj4khyar"
      },
      "execution_count": 16,
      "outputs": []
    },
    {
      "cell_type": "code",
      "source": [
        "frase_palavras = frase.lower().split()\n",
        "#frase transformada para letras minúsculas"
      ],
      "metadata": {
        "id": "wQNuFZx0h6ZM"
      },
      "execution_count": 6,
      "outputs": []
    },
    {
      "cell_type": "code",
      "source": [
        "#usar a biblioteca time para cronometrar\n",
        "start_time = time.time()\n",
        "#busca linear\n",
        "posicoes_linear = []\n",
        "for palavra in frase_palavras:\n",
        "    if palavra in dicionario:\n",
        "        posicoes_linear.append(dicionario.index(palavra))\n",
        "    else:\n",
        "        posicoes_linear.append(None)\n",
        "linear_time = time.time() - start_time\n",
        "#tempo de inicial - atual=tempo total de procura"
      ],
      "metadata": {
        "id": "N7uM2umLh6bT"
      },
      "execution_count": 17,
      "outputs": []
    },
    {
      "cell_type": "code",
      "source": [
        "#usar a biblioteca time para cronometrar\n",
        "start_time = time.time()\n",
        "#busca binária em ordem alfabética\n",
        "#ela usa o alfabeto para tentar achar as palavras, por exemplo a A-N-Z então ele ve se está na primeira metade ou na segunda,\n",
        "#assim como realizado na busca por números, por isso é necessáreio estar ordenado.\n",
        "posicoes_binaria = []\n",
        "for palavra in frase_palavras:\n",
        "    if palavra in dicionario:\n",
        "        left = 0\n",
        "        right = len(dicionario) - 1\n",
        "        while left <= right:\n",
        "            mid = (left + right) // 2  #acha a metade do arquivo\n",
        "            if dicionario[mid] == palavra:\n",
        "                posicoes_binaria.append(mid)\n",
        "                break\n",
        "            elif dicionario[mid] < palavra: #identifica para qual lado da metade está a palavra procurada\n",
        "                left = mid + 1\n",
        "            else:\n",
        "                right = mid - 1\n",
        "    else:\n",
        "        posicoes_binaria.append(None)\n",
        "binary_time = time.time() - start_time\n",
        "#tempo de inicial - atual=tempo total de procura"
      ],
      "metadata": {
        "id": "njcwisiJh6dO"
      },
      "execution_count": 8,
      "outputs": []
    },
    {
      "cell_type": "code",
      "source": [
        "print(\"Posições encontradas (Busca Linear):\", posicoes_linear)\n",
        "print(\"Posições encontradas (Busca Binária):\", posicoes_binaria)\n",
        "print(\"Tempo de busca (Busca Linear): {:.6f} segundos\".format(linear_time))\n",
        "print(\"Tempo de busca (Busca Binária): {:.6f} segundos\".format(binary_time))"
      ],
      "metadata": {
        "colab": {
          "base_uri": "https://localhost:8080/"
        },
        "id": "nS9QNmzhh9iF",
        "outputId": "e60cae6d-5eed-4cfa-e635-1c1b72f20a9a"
      },
      "execution_count": 9,
      "outputs": [
        {
          "output_type": "stream",
          "name": "stdout",
          "text": [
            "Posições encontradas (Busca Linear): [182916, 33641, 182960, 190501, 181921, 146478, 197755, 164562, 182916, 232980, 137691, 182960, 146476, 261629, 182361, 18825, 182916, 95044, 171718, 186669, 20674, 164757]\n",
            "Posições encontradas (Busca Binária): [182916, 33641, 182960, 190501, 181921, 146478, 197755, 164562, 182916, 232980, 137691, 182960, 146476, 261629, 182361, 18825, 182916, 95044, 171718, 186669, 20674, 164757]\n",
            "Tempo de busca (Busca Linear): 0.101474 segundos\n",
            "Tempo de busca (Busca Binária): 0.054324 segundos\n"
          ]
        }
      ]
    }
  ]
}